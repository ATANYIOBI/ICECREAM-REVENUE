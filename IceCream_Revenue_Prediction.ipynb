{
 "cells": [
  {
   "cell_type": "markdown",
   "id": "7535ba24",
   "metadata": {},
   "source": [
    "# STEP 1: LIBRARIES IMPORT"
   ]
  },
  {
   "cell_type": "code",
   "execution_count": 12,
   "id": "73a940f5",
   "metadata": {},
   "outputs": [],
   "source": [
    "\n",
    "import numpy as np\n",
    "import pandas as pd\n",
    "import matplotlib.pyplot as plt\n",
    "import seaborn as sns\n",
    "import sklearn "
   ]
  },
  {
   "cell_type": "markdown",
   "id": "58a2f36a",
   "metadata": {},
   "source": [
    "# STEP 2: LOAD DATASET"
   ]
  },
  {
   "cell_type": "code",
   "execution_count": 13,
   "id": "37518de3",
   "metadata": {},
   "outputs": [],
   "source": [
    "\n",
    "iceCreamData = pd.read_csv('IceCreamData.csv')"
   ]
  },
  {
   "cell_type": "code",
   "execution_count": 14,
   "id": "e6ed8e5f",
   "metadata": {},
   "outputs": [
    {
     "data": {
      "text/html": [
       "<div>\n",
       "<style scoped>\n",
       "    .dataframe tbody tr th:only-of-type {\n",
       "        vertical-align: middle;\n",
       "    }\n",
       "\n",
       "    .dataframe tbody tr th {\n",
       "        vertical-align: top;\n",
       "    }\n",
       "\n",
       "    .dataframe thead th {\n",
       "        text-align: right;\n",
       "    }\n",
       "</style>\n",
       "<table border=\"1\" class=\"dataframe\">\n",
       "  <thead>\n",
       "    <tr style=\"text-align: right;\">\n",
       "      <th></th>\n",
       "      <th>Temperature</th>\n",
       "      <th>Revenue</th>\n",
       "    </tr>\n",
       "  </thead>\n",
       "  <tbody>\n",
       "    <tr>\n",
       "      <th>0</th>\n",
       "      <td>24.566884</td>\n",
       "      <td>534.799028</td>\n",
       "    </tr>\n",
       "    <tr>\n",
       "      <th>1</th>\n",
       "      <td>26.005191</td>\n",
       "      <td>625.190122</td>\n",
       "    </tr>\n",
       "    <tr>\n",
       "      <th>2</th>\n",
       "      <td>27.790554</td>\n",
       "      <td>660.632289</td>\n",
       "    </tr>\n",
       "    <tr>\n",
       "      <th>3</th>\n",
       "      <td>20.595335</td>\n",
       "      <td>487.706960</td>\n",
       "    </tr>\n",
       "    <tr>\n",
       "      <th>4</th>\n",
       "      <td>11.503498</td>\n",
       "      <td>316.240194</td>\n",
       "    </tr>\n",
       "    <tr>\n",
       "      <th>5</th>\n",
       "      <td>14.352514</td>\n",
       "      <td>367.940744</td>\n",
       "    </tr>\n",
       "    <tr>\n",
       "      <th>6</th>\n",
       "      <td>13.707780</td>\n",
       "      <td>308.894518</td>\n",
       "    </tr>\n",
       "    <tr>\n",
       "      <th>7</th>\n",
       "      <td>30.833985</td>\n",
       "      <td>696.716640</td>\n",
       "    </tr>\n",
       "    <tr>\n",
       "      <th>8</th>\n",
       "      <td>0.976870</td>\n",
       "      <td>55.390338</td>\n",
       "    </tr>\n",
       "    <tr>\n",
       "      <th>9</th>\n",
       "      <td>31.669465</td>\n",
       "      <td>737.800824</td>\n",
       "    </tr>\n",
       "  </tbody>\n",
       "</table>\n",
       "</div>"
      ],
      "text/plain": [
       "   Temperature     Revenue\n",
       "0    24.566884  534.799028\n",
       "1    26.005191  625.190122\n",
       "2    27.790554  660.632289\n",
       "3    20.595335  487.706960\n",
       "4    11.503498  316.240194\n",
       "5    14.352514  367.940744\n",
       "6    13.707780  308.894518\n",
       "7    30.833985  696.716640\n",
       "8     0.976870   55.390338\n",
       "9    31.669465  737.800824"
      ]
     },
     "execution_count": 14,
     "metadata": {},
     "output_type": "execute_result"
    }
   ],
   "source": [
    "# view top ten data\n",
    "iceCreamData .head(10)"
   ]
  },
  {
   "cell_type": "code",
   "execution_count": 15,
   "id": "d5897a46",
   "metadata": {},
   "outputs": [
    {
     "data": {
      "text/html": [
       "<div>\n",
       "<style scoped>\n",
       "    .dataframe tbody tr th:only-of-type {\n",
       "        vertical-align: middle;\n",
       "    }\n",
       "\n",
       "    .dataframe tbody tr th {\n",
       "        vertical-align: top;\n",
       "    }\n",
       "\n",
       "    .dataframe thead th {\n",
       "        text-align: right;\n",
       "    }\n",
       "</style>\n",
       "<table border=\"1\" class=\"dataframe\">\n",
       "  <thead>\n",
       "    <tr style=\"text-align: right;\">\n",
       "      <th></th>\n",
       "      <th>Temperature</th>\n",
       "      <th>Revenue</th>\n",
       "    </tr>\n",
       "  </thead>\n",
       "  <tbody>\n",
       "    <tr>\n",
       "      <th>count</th>\n",
       "      <td>500.000000</td>\n",
       "      <td>500.000000</td>\n",
       "    </tr>\n",
       "    <tr>\n",
       "      <th>mean</th>\n",
       "      <td>22.232225</td>\n",
       "      <td>521.570777</td>\n",
       "    </tr>\n",
       "    <tr>\n",
       "      <th>std</th>\n",
       "      <td>8.096388</td>\n",
       "      <td>175.404751</td>\n",
       "    </tr>\n",
       "    <tr>\n",
       "      <th>min</th>\n",
       "      <td>0.000000</td>\n",
       "      <td>10.000000</td>\n",
       "    </tr>\n",
       "    <tr>\n",
       "      <th>25%</th>\n",
       "      <td>17.122258</td>\n",
       "      <td>405.558681</td>\n",
       "    </tr>\n",
       "    <tr>\n",
       "      <th>50%</th>\n",
       "      <td>22.392791</td>\n",
       "      <td>529.368565</td>\n",
       "    </tr>\n",
       "    <tr>\n",
       "      <th>75%</th>\n",
       "      <td>27.740674</td>\n",
       "      <td>642.257922</td>\n",
       "    </tr>\n",
       "    <tr>\n",
       "      <th>max</th>\n",
       "      <td>45.000000</td>\n",
       "      <td>1000.000000</td>\n",
       "    </tr>\n",
       "  </tbody>\n",
       "</table>\n",
       "</div>"
      ],
      "text/plain": [
       "       Temperature      Revenue\n",
       "count   500.000000   500.000000\n",
       "mean     22.232225   521.570777\n",
       "std       8.096388   175.404751\n",
       "min       0.000000    10.000000\n",
       "25%      17.122258   405.558681\n",
       "50%      22.392791   529.368565\n",
       "75%      27.740674   642.257922\n",
       "max      45.000000  1000.000000"
      ]
     },
     "execution_count": 15,
     "metadata": {},
     "output_type": "execute_result"
    }
   ],
   "source": [
    "# basic statistics about the data\n",
    "iceCreamData.describe()"
   ]
  },
  {
   "cell_type": "code",
   "execution_count": 16,
   "id": "9774737f",
   "metadata": {},
   "outputs": [
    {
     "name": "stdout",
     "output_type": "stream",
     "text": [
      "<class 'pandas.core.frame.DataFrame'>\n",
      "RangeIndex: 500 entries, 0 to 499\n",
      "Data columns (total 2 columns):\n",
      " #   Column       Non-Null Count  Dtype  \n",
      "---  ------       --------------  -----  \n",
      " 0   Temperature  500 non-null    float64\n",
      " 1   Revenue      500 non-null    float64\n",
      "dtypes: float64(2)\n",
      "memory usage: 7.9 KB\n"
     ]
    }
   ],
   "source": [
    "# basic details about the data\n",
    "iceCreamData.info()"
   ]
  },
  {
   "cell_type": "code",
   "execution_count": 17,
   "id": "16fce1f1",
   "metadata": {},
   "outputs": [
    {
     "data": {
      "text/plain": [
       "RangeIndex(start=0, stop=500, step=1)"
      ]
     },
     "execution_count": 17,
     "metadata": {},
     "output_type": "execute_result"
    }
   ],
   "source": [
    "# more info about the dataframe\n",
    "iceCreamData.index"
   ]
  },
  {
   "cell_type": "code",
   "execution_count": 18,
   "id": "39fc8d82",
   "metadata": {},
   "outputs": [
    {
     "data": {
      "text/html": [
       "<div>\n",
       "<style scoped>\n",
       "    .dataframe tbody tr th:only-of-type {\n",
       "        vertical-align: middle;\n",
       "    }\n",
       "\n",
       "    .dataframe tbody tr th {\n",
       "        vertical-align: top;\n",
       "    }\n",
       "\n",
       "    .dataframe thead th {\n",
       "        text-align: right;\n",
       "    }\n",
       "</style>\n",
       "<table border=\"1\" class=\"dataframe\">\n",
       "  <thead>\n",
       "    <tr style=\"text-align: right;\">\n",
       "      <th>Revenue</th>\n",
       "      <th>10.000000</th>\n",
       "      <th>32.546619</th>\n",
       "      <th>55.390338</th>\n",
       "      <th>71.160153</th>\n",
       "      <th>118.812150</th>\n",
       "      <th>131.657017</th>\n",
       "      <th>145.625302</th>\n",
       "      <th>158.849806</th>\n",
       "      <th>170.237756</th>\n",
       "      <th>186.476487</th>\n",
       "      <th>...</th>\n",
       "      <th>898.805423</th>\n",
       "      <th>905.477604</th>\n",
       "      <th>916.648613</th>\n",
       "      <th>918.391232</th>\n",
       "      <th>921.508275</th>\n",
       "      <th>926.067153</th>\n",
       "      <th>935.717291</th>\n",
       "      <th>965.493040</th>\n",
       "      <th>969.291630</th>\n",
       "      <th>1000.000000</th>\n",
       "    </tr>\n",
       "  </thead>\n",
       "  <tbody>\n",
       "    <tr>\n",
       "      <th>Temperature</th>\n",
       "      <td>0.0</td>\n",
       "      <td>0.267028</td>\n",
       "      <td>0.97687</td>\n",
       "      <td>3.66467</td>\n",
       "      <td>4.236465</td>\n",
       "      <td>3.986523</td>\n",
       "      <td>5.338413</td>\n",
       "      <td>6.093897</td>\n",
       "      <td>5.858454</td>\n",
       "      <td>5.822332</td>\n",
       "      <td>...</td>\n",
       "      <td>39.513155</td>\n",
       "      <td>39.539909</td>\n",
       "      <td>38.628862</td>\n",
       "      <td>40.473989</td>\n",
       "      <td>42.51528</td>\n",
       "      <td>40.303768</td>\n",
       "      <td>39.764129</td>\n",
       "      <td>41.924446</td>\n",
       "      <td>41.766589</td>\n",
       "      <td>45.0</td>\n",
       "    </tr>\n",
       "  </tbody>\n",
       "</table>\n",
       "<p>1 rows × 500 columns</p>\n",
       "</div>"
      ],
      "text/plain": [
       "Revenue      10.000000    32.546619    55.390338    71.160153    118.812150   \\\n",
       "Temperature          0.0     0.267028      0.97687      3.66467     4.236465   \n",
       "\n",
       "Revenue      131.657017   145.625302   158.849806   170.237756   186.476487   \\\n",
       "Temperature     3.986523     5.338413     6.093897     5.858454     5.822332   \n",
       "\n",
       "Revenue      ...  898.805423   905.477604   916.648613   918.391232   \\\n",
       "Temperature  ...    39.513155    39.539909    38.628862    40.473989   \n",
       "\n",
       "Revenue      921.508275   926.067153   935.717291   965.493040   969.291630   \\\n",
       "Temperature     42.51528    40.303768    39.764129    41.924446    41.766589   \n",
       "\n",
       "Revenue      1000.000000  \n",
       "Temperature         45.0  \n",
       "\n",
       "[1 rows x 500 columns]"
      ]
     },
     "execution_count": 18,
     "metadata": {},
     "output_type": "execute_result"
    }
   ],
   "source": [
    "iceCreamData.groupby('Revenue').sum().transpose()"
   ]
  },
  {
   "cell_type": "code",
   "execution_count": 19,
   "id": "567e271a",
   "metadata": {},
   "outputs": [
    {
     "data": {
      "text/html": [
       "<div>\n",
       "<style scoped>\n",
       "    .dataframe tbody tr th:only-of-type {\n",
       "        vertical-align: middle;\n",
       "    }\n",
       "\n",
       "    .dataframe tbody tr th {\n",
       "        vertical-align: top;\n",
       "    }\n",
       "\n",
       "    .dataframe thead th {\n",
       "        text-align: right;\n",
       "    }\n",
       "</style>\n",
       "<table border=\"1\" class=\"dataframe\">\n",
       "  <thead>\n",
       "    <tr style=\"text-align: right;\">\n",
       "      <th></th>\n",
       "      <th>Temperature</th>\n",
       "      <th>Revenue</th>\n",
       "    </tr>\n",
       "  </thead>\n",
       "  <tbody>\n",
       "    <tr>\n",
       "      <th>402</th>\n",
       "      <td>0.000000</td>\n",
       "      <td>10.000000</td>\n",
       "    </tr>\n",
       "    <tr>\n",
       "      <th>371</th>\n",
       "      <td>0.267028</td>\n",
       "      <td>32.546619</td>\n",
       "    </tr>\n",
       "    <tr>\n",
       "      <th>8</th>\n",
       "      <td>0.976870</td>\n",
       "      <td>55.390338</td>\n",
       "    </tr>\n",
       "    <tr>\n",
       "      <th>11</th>\n",
       "      <td>3.664670</td>\n",
       "      <td>71.160153</td>\n",
       "    </tr>\n",
       "    <tr>\n",
       "      <th>63</th>\n",
       "      <td>3.986523</td>\n",
       "      <td>131.657017</td>\n",
       "    </tr>\n",
       "    <tr>\n",
       "      <th>...</th>\n",
       "      <td>...</td>\n",
       "      <td>...</td>\n",
       "    </tr>\n",
       "    <tr>\n",
       "      <th>76</th>\n",
       "      <td>40.473989</td>\n",
       "      <td>918.391232</td>\n",
       "    </tr>\n",
       "    <tr>\n",
       "      <th>413</th>\n",
       "      <td>41.766589</td>\n",
       "      <td>969.291630</td>\n",
       "    </tr>\n",
       "    <tr>\n",
       "      <th>329</th>\n",
       "      <td>41.924446</td>\n",
       "      <td>965.493040</td>\n",
       "    </tr>\n",
       "    <tr>\n",
       "      <th>17</th>\n",
       "      <td>42.515280</td>\n",
       "      <td>921.508275</td>\n",
       "    </tr>\n",
       "    <tr>\n",
       "      <th>444</th>\n",
       "      <td>45.000000</td>\n",
       "      <td>1000.000000</td>\n",
       "    </tr>\n",
       "  </tbody>\n",
       "</table>\n",
       "<p>500 rows × 2 columns</p>\n",
       "</div>"
      ],
      "text/plain": [
       "     Temperature      Revenue\n",
       "402     0.000000    10.000000\n",
       "371     0.267028    32.546619\n",
       "8       0.976870    55.390338\n",
       "11      3.664670    71.160153\n",
       "63      3.986523   131.657017\n",
       "..           ...          ...\n",
       "76     40.473989   918.391232\n",
       "413    41.766589   969.291630\n",
       "329    41.924446   965.493040\n",
       "17     42.515280   921.508275\n",
       "444    45.000000  1000.000000\n",
       "\n",
       "[500 rows x 2 columns]"
      ]
     },
     "execution_count": 19,
     "metadata": {},
     "output_type": "execute_result"
    }
   ],
   "source": [
    "# arranging the DataFrame in ascending order.\n",
    "iceCreamData.sort_values(by='Temperature')"
   ]
  },
  {
   "cell_type": "code",
   "execution_count": 20,
   "id": "0833c028",
   "metadata": {},
   "outputs": [
    {
     "data": {
      "text/html": [
       "<div>\n",
       "<style scoped>\n",
       "    .dataframe tbody tr th:only-of-type {\n",
       "        vertical-align: middle;\n",
       "    }\n",
       "\n",
       "    .dataframe tbody tr th {\n",
       "        vertical-align: top;\n",
       "    }\n",
       "\n",
       "    .dataframe thead th {\n",
       "        text-align: right;\n",
       "    }\n",
       "</style>\n",
       "<table border=\"1\" class=\"dataframe\">\n",
       "  <thead>\n",
       "    <tr style=\"text-align: right;\">\n",
       "      <th></th>\n",
       "      <th>Revenue</th>\n",
       "      <th>10.000000</th>\n",
       "      <th>32.546619</th>\n",
       "      <th>55.390338</th>\n",
       "      <th>71.160153</th>\n",
       "      <th>118.812150</th>\n",
       "      <th>131.657017</th>\n",
       "      <th>145.625302</th>\n",
       "      <th>158.849806</th>\n",
       "      <th>170.237756</th>\n",
       "      <th>186.476487</th>\n",
       "      <th>...</th>\n",
       "      <th>898.805423</th>\n",
       "      <th>905.477604</th>\n",
       "      <th>916.648613</th>\n",
       "      <th>918.391232</th>\n",
       "      <th>921.508275</th>\n",
       "      <th>926.067153</th>\n",
       "      <th>935.717291</th>\n",
       "      <th>965.493040</th>\n",
       "      <th>969.291630</th>\n",
       "      <th>1000.000000</th>\n",
       "    </tr>\n",
       "  </thead>\n",
       "  <tbody>\n",
       "    <tr>\n",
       "      <th rowspan=\"8\" valign=\"top\">Temperature</th>\n",
       "      <th>count</th>\n",
       "      <td>1.0</td>\n",
       "      <td>1.000000</td>\n",
       "      <td>1.00000</td>\n",
       "      <td>1.00000</td>\n",
       "      <td>1.000000</td>\n",
       "      <td>1.000000</td>\n",
       "      <td>1.000000</td>\n",
       "      <td>1.000000</td>\n",
       "      <td>1.000000</td>\n",
       "      <td>1.000000</td>\n",
       "      <td>...</td>\n",
       "      <td>1.000000</td>\n",
       "      <td>1.000000</td>\n",
       "      <td>1.000000</td>\n",
       "      <td>1.000000</td>\n",
       "      <td>1.00000</td>\n",
       "      <td>1.000000</td>\n",
       "      <td>1.000000</td>\n",
       "      <td>1.000000</td>\n",
       "      <td>1.000000</td>\n",
       "      <td>1.0</td>\n",
       "    </tr>\n",
       "    <tr>\n",
       "      <th>mean</th>\n",
       "      <td>0.0</td>\n",
       "      <td>0.267028</td>\n",
       "      <td>0.97687</td>\n",
       "      <td>3.66467</td>\n",
       "      <td>4.236465</td>\n",
       "      <td>3.986523</td>\n",
       "      <td>5.338413</td>\n",
       "      <td>6.093897</td>\n",
       "      <td>5.858454</td>\n",
       "      <td>5.822332</td>\n",
       "      <td>...</td>\n",
       "      <td>39.513155</td>\n",
       "      <td>39.539909</td>\n",
       "      <td>38.628862</td>\n",
       "      <td>40.473989</td>\n",
       "      <td>42.51528</td>\n",
       "      <td>40.303768</td>\n",
       "      <td>39.764129</td>\n",
       "      <td>41.924446</td>\n",
       "      <td>41.766589</td>\n",
       "      <td>45.0</td>\n",
       "    </tr>\n",
       "    <tr>\n",
       "      <th>std</th>\n",
       "      <td>NaN</td>\n",
       "      <td>NaN</td>\n",
       "      <td>NaN</td>\n",
       "      <td>NaN</td>\n",
       "      <td>NaN</td>\n",
       "      <td>NaN</td>\n",
       "      <td>NaN</td>\n",
       "      <td>NaN</td>\n",
       "      <td>NaN</td>\n",
       "      <td>NaN</td>\n",
       "      <td>...</td>\n",
       "      <td>NaN</td>\n",
       "      <td>NaN</td>\n",
       "      <td>NaN</td>\n",
       "      <td>NaN</td>\n",
       "      <td>NaN</td>\n",
       "      <td>NaN</td>\n",
       "      <td>NaN</td>\n",
       "      <td>NaN</td>\n",
       "      <td>NaN</td>\n",
       "      <td>NaN</td>\n",
       "    </tr>\n",
       "    <tr>\n",
       "      <th>min</th>\n",
       "      <td>0.0</td>\n",
       "      <td>0.267028</td>\n",
       "      <td>0.97687</td>\n",
       "      <td>3.66467</td>\n",
       "      <td>4.236465</td>\n",
       "      <td>3.986523</td>\n",
       "      <td>5.338413</td>\n",
       "      <td>6.093897</td>\n",
       "      <td>5.858454</td>\n",
       "      <td>5.822332</td>\n",
       "      <td>...</td>\n",
       "      <td>39.513155</td>\n",
       "      <td>39.539909</td>\n",
       "      <td>38.628862</td>\n",
       "      <td>40.473989</td>\n",
       "      <td>42.51528</td>\n",
       "      <td>40.303768</td>\n",
       "      <td>39.764129</td>\n",
       "      <td>41.924446</td>\n",
       "      <td>41.766589</td>\n",
       "      <td>45.0</td>\n",
       "    </tr>\n",
       "    <tr>\n",
       "      <th>25%</th>\n",
       "      <td>0.0</td>\n",
       "      <td>0.267028</td>\n",
       "      <td>0.97687</td>\n",
       "      <td>3.66467</td>\n",
       "      <td>4.236465</td>\n",
       "      <td>3.986523</td>\n",
       "      <td>5.338413</td>\n",
       "      <td>6.093897</td>\n",
       "      <td>5.858454</td>\n",
       "      <td>5.822332</td>\n",
       "      <td>...</td>\n",
       "      <td>39.513155</td>\n",
       "      <td>39.539909</td>\n",
       "      <td>38.628862</td>\n",
       "      <td>40.473989</td>\n",
       "      <td>42.51528</td>\n",
       "      <td>40.303768</td>\n",
       "      <td>39.764129</td>\n",
       "      <td>41.924446</td>\n",
       "      <td>41.766589</td>\n",
       "      <td>45.0</td>\n",
       "    </tr>\n",
       "    <tr>\n",
       "      <th>50%</th>\n",
       "      <td>0.0</td>\n",
       "      <td>0.267028</td>\n",
       "      <td>0.97687</td>\n",
       "      <td>3.66467</td>\n",
       "      <td>4.236465</td>\n",
       "      <td>3.986523</td>\n",
       "      <td>5.338413</td>\n",
       "      <td>6.093897</td>\n",
       "      <td>5.858454</td>\n",
       "      <td>5.822332</td>\n",
       "      <td>...</td>\n",
       "      <td>39.513155</td>\n",
       "      <td>39.539909</td>\n",
       "      <td>38.628862</td>\n",
       "      <td>40.473989</td>\n",
       "      <td>42.51528</td>\n",
       "      <td>40.303768</td>\n",
       "      <td>39.764129</td>\n",
       "      <td>41.924446</td>\n",
       "      <td>41.766589</td>\n",
       "      <td>45.0</td>\n",
       "    </tr>\n",
       "    <tr>\n",
       "      <th>75%</th>\n",
       "      <td>0.0</td>\n",
       "      <td>0.267028</td>\n",
       "      <td>0.97687</td>\n",
       "      <td>3.66467</td>\n",
       "      <td>4.236465</td>\n",
       "      <td>3.986523</td>\n",
       "      <td>5.338413</td>\n",
       "      <td>6.093897</td>\n",
       "      <td>5.858454</td>\n",
       "      <td>5.822332</td>\n",
       "      <td>...</td>\n",
       "      <td>39.513155</td>\n",
       "      <td>39.539909</td>\n",
       "      <td>38.628862</td>\n",
       "      <td>40.473989</td>\n",
       "      <td>42.51528</td>\n",
       "      <td>40.303768</td>\n",
       "      <td>39.764129</td>\n",
       "      <td>41.924446</td>\n",
       "      <td>41.766589</td>\n",
       "      <td>45.0</td>\n",
       "    </tr>\n",
       "    <tr>\n",
       "      <th>max</th>\n",
       "      <td>0.0</td>\n",
       "      <td>0.267028</td>\n",
       "      <td>0.97687</td>\n",
       "      <td>3.66467</td>\n",
       "      <td>4.236465</td>\n",
       "      <td>3.986523</td>\n",
       "      <td>5.338413</td>\n",
       "      <td>6.093897</td>\n",
       "      <td>5.858454</td>\n",
       "      <td>5.822332</td>\n",
       "      <td>...</td>\n",
       "      <td>39.513155</td>\n",
       "      <td>39.539909</td>\n",
       "      <td>38.628862</td>\n",
       "      <td>40.473989</td>\n",
       "      <td>42.51528</td>\n",
       "      <td>40.303768</td>\n",
       "      <td>39.764129</td>\n",
       "      <td>41.924446</td>\n",
       "      <td>41.766589</td>\n",
       "      <td>45.0</td>\n",
       "    </tr>\n",
       "  </tbody>\n",
       "</table>\n",
       "<p>8 rows × 500 columns</p>\n",
       "</div>"
      ],
      "text/plain": [
       "Revenue            10.000000    32.546619    55.390338    71.160153    \\\n",
       "Temperature count          1.0     1.000000      1.00000      1.00000   \n",
       "            mean           0.0     0.267028      0.97687      3.66467   \n",
       "            std            NaN          NaN          NaN          NaN   \n",
       "            min            0.0     0.267028      0.97687      3.66467   \n",
       "            25%            0.0     0.267028      0.97687      3.66467   \n",
       "            50%            0.0     0.267028      0.97687      3.66467   \n",
       "            75%            0.0     0.267028      0.97687      3.66467   \n",
       "            max            0.0     0.267028      0.97687      3.66467   \n",
       "\n",
       "Revenue            118.812150   131.657017   145.625302   158.849806   \\\n",
       "Temperature count     1.000000     1.000000     1.000000     1.000000   \n",
       "            mean      4.236465     3.986523     5.338413     6.093897   \n",
       "            std            NaN          NaN          NaN          NaN   \n",
       "            min       4.236465     3.986523     5.338413     6.093897   \n",
       "            25%       4.236465     3.986523     5.338413     6.093897   \n",
       "            50%       4.236465     3.986523     5.338413     6.093897   \n",
       "            75%       4.236465     3.986523     5.338413     6.093897   \n",
       "            max       4.236465     3.986523     5.338413     6.093897   \n",
       "\n",
       "Revenue            170.237756   186.476487   ...  898.805423   905.477604   \\\n",
       "Temperature count     1.000000     1.000000  ...     1.000000     1.000000   \n",
       "            mean      5.858454     5.822332  ...    39.513155    39.539909   \n",
       "            std            NaN          NaN  ...          NaN          NaN   \n",
       "            min       5.858454     5.822332  ...    39.513155    39.539909   \n",
       "            25%       5.858454     5.822332  ...    39.513155    39.539909   \n",
       "            50%       5.858454     5.822332  ...    39.513155    39.539909   \n",
       "            75%       5.858454     5.822332  ...    39.513155    39.539909   \n",
       "            max       5.858454     5.822332  ...    39.513155    39.539909   \n",
       "\n",
       "Revenue            916.648613   918.391232   921.508275   926.067153   \\\n",
       "Temperature count     1.000000     1.000000      1.00000     1.000000   \n",
       "            mean     38.628862    40.473989     42.51528    40.303768   \n",
       "            std            NaN          NaN          NaN          NaN   \n",
       "            min      38.628862    40.473989     42.51528    40.303768   \n",
       "            25%      38.628862    40.473989     42.51528    40.303768   \n",
       "            50%      38.628862    40.473989     42.51528    40.303768   \n",
       "            75%      38.628862    40.473989     42.51528    40.303768   \n",
       "            max      38.628862    40.473989     42.51528    40.303768   \n",
       "\n",
       "Revenue            935.717291   965.493040   969.291630   1000.000000  \n",
       "Temperature count     1.000000     1.000000     1.000000          1.0  \n",
       "            mean     39.764129    41.924446    41.766589         45.0  \n",
       "            std            NaN          NaN          NaN          NaN  \n",
       "            min      39.764129    41.924446    41.766589         45.0  \n",
       "            25%      39.764129    41.924446    41.766589         45.0  \n",
       "            50%      39.764129    41.924446    41.766589         45.0  \n",
       "            75%      39.764129    41.924446    41.766589         45.0  \n",
       "            max      39.764129    41.924446    41.766589         45.0  \n",
       "\n",
       "[8 rows x 500 columns]"
      ]
     },
     "execution_count": 20,
     "metadata": {},
     "output_type": "execute_result"
    }
   ],
   "source": [
    "iceCreamData.groupby('Revenue').describe().transpose()"
   ]
  },
  {
   "cell_type": "code",
   "execution_count": 21,
   "id": "f832a8e5",
   "metadata": {},
   "outputs": [
    {
     "data": {
      "text/plain": [
       "Temperature\n",
       "0.000000       10.000000\n",
       "0.267028       32.546619\n",
       "0.976870       55.390338\n",
       "3.664670       71.160153\n",
       "3.986523      131.657017\n",
       "                ...     \n",
       "40.473989     918.391232\n",
       "41.766589     969.291630\n",
       "41.924446     965.493040\n",
       "42.515280     921.508275\n",
       "45.000000    1000.000000\n",
       "Name: Revenue, Length: 500, dtype: float64"
      ]
     },
     "execution_count": 21,
     "metadata": {},
     "output_type": "execute_result"
    }
   ],
   "source": [
    "iceCreamData.groupby('Temperature').min()['Revenue']"
   ]
  },
  {
   "cell_type": "code",
   "execution_count": 22,
   "id": "571d3e36",
   "metadata": {},
   "outputs": [],
   "source": [
    "#to check location of the file \n",
    "# pwd"
   ]
  },
  {
   "cell_type": "code",
   "execution_count": 23,
   "id": "0c8d8671",
   "metadata": {},
   "outputs": [
    {
     "data": {
      "text/html": [
       "<div>\n",
       "<style scoped>\n",
       "    .dataframe tbody tr th:only-of-type {\n",
       "        vertical-align: middle;\n",
       "    }\n",
       "\n",
       "    .dataframe tbody tr th {\n",
       "        vertical-align: top;\n",
       "    }\n",
       "\n",
       "    .dataframe thead th {\n",
       "        text-align: right;\n",
       "    }\n",
       "</style>\n",
       "<table border=\"1\" class=\"dataframe\">\n",
       "  <thead>\n",
       "    <tr style=\"text-align: right;\">\n",
       "      <th></th>\n",
       "      <th>Temperature</th>\n",
       "      <th>Revenue</th>\n",
       "    </tr>\n",
       "  </thead>\n",
       "  <tbody>\n",
       "    <tr>\n",
       "      <th>0</th>\n",
       "      <td>False</td>\n",
       "      <td>False</td>\n",
       "    </tr>\n",
       "    <tr>\n",
       "      <th>1</th>\n",
       "      <td>False</td>\n",
       "      <td>False</td>\n",
       "    </tr>\n",
       "    <tr>\n",
       "      <th>2</th>\n",
       "      <td>False</td>\n",
       "      <td>False</td>\n",
       "    </tr>\n",
       "    <tr>\n",
       "      <th>3</th>\n",
       "      <td>False</td>\n",
       "      <td>False</td>\n",
       "    </tr>\n",
       "    <tr>\n",
       "      <th>4</th>\n",
       "      <td>False</td>\n",
       "      <td>False</td>\n",
       "    </tr>\n",
       "    <tr>\n",
       "      <th>...</th>\n",
       "      <td>...</td>\n",
       "      <td>...</td>\n",
       "    </tr>\n",
       "    <tr>\n",
       "      <th>495</th>\n",
       "      <td>False</td>\n",
       "      <td>False</td>\n",
       "    </tr>\n",
       "    <tr>\n",
       "      <th>496</th>\n",
       "      <td>False</td>\n",
       "      <td>False</td>\n",
       "    </tr>\n",
       "    <tr>\n",
       "      <th>497</th>\n",
       "      <td>False</td>\n",
       "      <td>False</td>\n",
       "    </tr>\n",
       "    <tr>\n",
       "      <th>498</th>\n",
       "      <td>False</td>\n",
       "      <td>False</td>\n",
       "    </tr>\n",
       "    <tr>\n",
       "      <th>499</th>\n",
       "      <td>False</td>\n",
       "      <td>False</td>\n",
       "    </tr>\n",
       "  </tbody>\n",
       "</table>\n",
       "<p>500 rows × 2 columns</p>\n",
       "</div>"
      ],
      "text/plain": [
       "     Temperature  Revenue\n",
       "0          False    False\n",
       "1          False    False\n",
       "2          False    False\n",
       "3          False    False\n",
       "4          False    False\n",
       "..           ...      ...\n",
       "495        False    False\n",
       "496        False    False\n",
       "497        False    False\n",
       "498        False    False\n",
       "499        False    False\n",
       "\n",
       "[500 rows x 2 columns]"
      ]
     },
     "execution_count": 23,
     "metadata": {},
     "output_type": "execute_result"
    }
   ],
   "source": [
    "# check if there is missing value(s)\n",
    "iceCreamData.isnull()"
   ]
  },
  {
   "cell_type": "markdown",
   "id": "2f22302a",
   "metadata": {},
   "source": [
    "# STEP 3:  VISUALIZE DATASET"
   ]
  },
  {
   "cell_type": "code",
   "execution_count": 24,
   "id": "02a123ae",
   "metadata": {},
   "outputs": [
    {
     "data": {
      "text/plain": [
       "<seaborn.axisgrid.JointGrid at 0x283f5bb1700>"
      ]
     },
     "execution_count": 24,
     "metadata": {},
     "output_type": "execute_result"
    },
    {
     "data": {
      "image/png": "[encoded data removed]",
      "text/plain": [
       "<Figure size 432x432 with 3 Axes>"
      ]
     },
     "metadata": {
      "needs_background": "light"
     },
     "output_type": "display_data"
    }
   ],
   "source": [
    "sns.jointplot(x = 'Temperature', y= 'Revenue', data = iceCreamData, color = 'Pink')"
   ]
  },
  {
   "cell_type": "code",
   "execution_count": 25,
   "id": "f6cb7e77",
   "metadata": {},
   "outputs": [
    {
     "data": {
      "text/plain": [
       "<seaborn.axisgrid.PairGrid at 0x283f5d11280>"
      ]
     },
     "execution_count": 25,
     "metadata": {},
     "output_type": "execute_result"
    },
    {
     "data": {
      "image/png": "[encoded data removed]",
      "text/plain": [
       "<Figure size 360x360 with 6 Axes>"
      ]
     },
     "metadata": {
      "needs_background": "light"
     },
     "output_type": "display_data"
    }
   ],
   "source": [
    "#takes care of different information on a plot\n",
    "sns.pairplot(iceCreamData)"
   ]
  },
  {
   "cell_type": "code",
   "execution_count": 26,
   "id": "e4c0aa11",
   "metadata": {},
   "outputs": [
    {
     "data": {
      "text/plain": [
       "<seaborn.axisgrid.FacetGrid at 0x283f5cf4ac0>"
      ]
     },
     "execution_count": 26,
     "metadata": {},
     "output_type": "execute_result"
    },
    {
     "data": {
      "image/png": "[encoded data removed]",
      "text/plain": [
       "<Figure size 360x360 with 1 Axes>"
      ]
     },
     "metadata": {
      "needs_background": "light"
     },
     "output_type": "display_data"
    }
   ],
   "source": [
    "sns.lmplot(x = 'Temperature', y = 'Revenue', data = iceCreamData )"
   ]
  },
  {
   "cell_type": "markdown",
   "id": "f20ff19a",
   "metadata": {},
   "source": [
    "# STEP 4: CREATE TESTING and TRAINING DATASET"
   ]
  },
  {
   "cell_type": "code",
   "execution_count": 27,
   "id": "781b7acb",
   "metadata": {},
   "outputs": [],
   "source": [
    "X = iceCreamData[['Temperature']]"
   ]
  },
  {
   "cell_type": "code",
   "execution_count": 28,
   "id": "79294925",
   "metadata": {},
   "outputs": [],
   "source": [
    "y = iceCreamData[['Revenue']]"
   ]
  },
  {
   "cell_type": "code",
   "execution_count": 29,
   "id": "3805995e",
   "metadata": {},
   "outputs": [],
   "source": [
    "# dividing the dataset into training and testing (input and target)\n",
    "from sklearn.model_selection import train_test_split "
   ]
  },
  {
   "cell_type": "code",
   "execution_count": 30,
   "id": "281c291f",
   "metadata": {},
   "outputs": [],
   "source": [
    "X_train, X_test, y_train, y_test = train_test_split(\n",
    "X, y, test_size=0.2, random_state=42)"
   ]
  },
  {
   "cell_type": "code",
   "execution_count": 31,
   "id": "36314551",
   "metadata": {},
   "outputs": [
    {
     "data": {
      "text/html": [
       "<div>\n",
       "<style scoped>\n",
       "    .dataframe tbody tr th:only-of-type {\n",
       "        vertical-align: middle;\n",
       "    }\n",
       "\n",
       "    .dataframe tbody tr th {\n",
       "        vertical-align: top;\n",
       "    }\n",
       "\n",
       "    .dataframe thead th {\n",
       "        text-align: right;\n",
       "    }\n",
       "</style>\n",
       "<table border=\"1\" class=\"dataframe\">\n",
       "  <thead>\n",
       "    <tr style=\"text-align: right;\">\n",
       "      <th></th>\n",
       "      <th>Temperature</th>\n",
       "    </tr>\n",
       "  </thead>\n",
       "  <tbody>\n",
       "    <tr>\n",
       "      <th>249</th>\n",
       "      <td>18.148952</td>\n",
       "    </tr>\n",
       "    <tr>\n",
       "      <th>433</th>\n",
       "      <td>8.756004</td>\n",
       "    </tr>\n",
       "    <tr>\n",
       "      <th>19</th>\n",
       "      <td>21.775948</td>\n",
       "    </tr>\n",
       "    <tr>\n",
       "      <th>322</th>\n",
       "      <td>18.439982</td>\n",
       "    </tr>\n",
       "    <tr>\n",
       "      <th>332</th>\n",
       "      <td>15.843022</td>\n",
       "    </tr>\n",
       "    <tr>\n",
       "      <th>...</th>\n",
       "      <td>...</td>\n",
       "    </tr>\n",
       "    <tr>\n",
       "      <th>106</th>\n",
       "      <td>23.761436</td>\n",
       "    </tr>\n",
       "    <tr>\n",
       "      <th>270</th>\n",
       "      <td>24.628611</td>\n",
       "    </tr>\n",
       "    <tr>\n",
       "      <th>348</th>\n",
       "      <td>38.185199</td>\n",
       "    </tr>\n",
       "    <tr>\n",
       "      <th>435</th>\n",
       "      <td>15.916678</td>\n",
       "    </tr>\n",
       "    <tr>\n",
       "      <th>102</th>\n",
       "      <td>14.287196</td>\n",
       "    </tr>\n",
       "  </tbody>\n",
       "</table>\n",
       "<p>400 rows × 1 columns</p>\n",
       "</div>"
      ],
      "text/plain": [
       "     Temperature\n",
       "249    18.148952\n",
       "433     8.756004\n",
       "19     21.775948\n",
       "322    18.439982\n",
       "332    15.843022\n",
       "..           ...\n",
       "106    23.761436\n",
       "270    24.628611\n",
       "348    38.185199\n",
       "435    15.916678\n",
       "102    14.287196\n",
       "\n",
       "[400 rows x 1 columns]"
      ]
     },
     "execution_count": 31,
     "metadata": {},
     "output_type": "execute_result"
    }
   ],
   "source": [
    "X_train\n",
    "# observe the shuffled in the data and the data size"
   ]
  },
  {
   "cell_type": "code",
   "execution_count": 32,
   "id": "c01b9783",
   "metadata": {},
   "outputs": [
    {
     "data": {
      "text/html": [
       "<div>\n",
       "<style scoped>\n",
       "    .dataframe tbody tr th:only-of-type {\n",
       "        vertical-align: middle;\n",
       "    }\n",
       "\n",
       "    .dataframe tbody tr th {\n",
       "        vertical-align: top;\n",
       "    }\n",
       "\n",
       "    .dataframe thead th {\n",
       "        text-align: right;\n",
       "    }\n",
       "</style>\n",
       "<table border=\"1\" class=\"dataframe\">\n",
       "  <thead>\n",
       "    <tr style=\"text-align: right;\">\n",
       "      <th></th>\n",
       "      <th>Temperature</th>\n",
       "    </tr>\n",
       "  </thead>\n",
       "  <tbody>\n",
       "    <tr>\n",
       "      <th>361</th>\n",
       "      <td>29.704183</td>\n",
       "    </tr>\n",
       "    <tr>\n",
       "      <th>73</th>\n",
       "      <td>27.375401</td>\n",
       "    </tr>\n",
       "    <tr>\n",
       "      <th>374</th>\n",
       "      <td>23.984641</td>\n",
       "    </tr>\n",
       "    <tr>\n",
       "      <th>155</th>\n",
       "      <td>21.144047</td>\n",
       "    </tr>\n",
       "    <tr>\n",
       "      <th>104</th>\n",
       "      <td>26.595054</td>\n",
       "    </tr>\n",
       "    <tr>\n",
       "      <th>...</th>\n",
       "      <td>...</td>\n",
       "    </tr>\n",
       "    <tr>\n",
       "      <th>347</th>\n",
       "      <td>24.960446</td>\n",
       "    </tr>\n",
       "    <tr>\n",
       "      <th>86</th>\n",
       "      <td>27.780500</td>\n",
       "    </tr>\n",
       "    <tr>\n",
       "      <th>75</th>\n",
       "      <td>28.790101</td>\n",
       "    </tr>\n",
       "    <tr>\n",
       "      <th>438</th>\n",
       "      <td>17.132795</td>\n",
       "    </tr>\n",
       "    <tr>\n",
       "      <th>15</th>\n",
       "      <td>18.483141</td>\n",
       "    </tr>\n",
       "  </tbody>\n",
       "</table>\n",
       "<p>100 rows × 1 columns</p>\n",
       "</div>"
      ],
      "text/plain": [
       "     Temperature\n",
       "361    29.704183\n",
       "73     27.375401\n",
       "374    23.984641\n",
       "155    21.144047\n",
       "104    26.595054\n",
       "..           ...\n",
       "347    24.960446\n",
       "86     27.780500\n",
       "75     28.790101\n",
       "438    17.132795\n",
       "15     18.483141\n",
       "\n",
       "[100 rows x 1 columns]"
      ]
     },
     "execution_count": 32,
     "metadata": {},
     "output_type": "execute_result"
    }
   ],
   "source": [
    "X_test"
   ]
  },
  {
   "cell_type": "code",
   "execution_count": 33,
   "id": "374cf3c6",
   "metadata": {},
   "outputs": [
    {
     "data": {
      "text/html": [
       "<div>\n",
       "<style scoped>\n",
       "    .dataframe tbody tr th:only-of-type {\n",
       "        vertical-align: middle;\n",
       "    }\n",
       "\n",
       "    .dataframe tbody tr th {\n",
       "        vertical-align: top;\n",
       "    }\n",
       "\n",
       "    .dataframe thead th {\n",
       "        text-align: right;\n",
       "    }\n",
       "</style>\n",
       "<table border=\"1\" class=\"dataframe\">\n",
       "  <thead>\n",
       "    <tr style=\"text-align: right;\">\n",
       "      <th></th>\n",
       "      <th>Revenue</th>\n",
       "    </tr>\n",
       "  </thead>\n",
       "  <tbody>\n",
       "    <tr>\n",
       "      <th>249</th>\n",
       "      <td>473.568112</td>\n",
       "    </tr>\n",
       "    <tr>\n",
       "      <th>433</th>\n",
       "      <td>246.787161</td>\n",
       "    </tr>\n",
       "    <tr>\n",
       "      <th>19</th>\n",
       "      <td>534.622865</td>\n",
       "    </tr>\n",
       "    <tr>\n",
       "      <th>322</th>\n",
       "      <td>463.480508</td>\n",
       "    </tr>\n",
       "    <tr>\n",
       "      <th>332</th>\n",
       "      <td>379.564268</td>\n",
       "    </tr>\n",
       "    <tr>\n",
       "      <th>...</th>\n",
       "      <td>...</td>\n",
       "    </tr>\n",
       "    <tr>\n",
       "      <th>106</th>\n",
       "      <td>553.445291</td>\n",
       "    </tr>\n",
       "    <tr>\n",
       "      <th>270</th>\n",
       "      <td>603.305339</td>\n",
       "    </tr>\n",
       "    <tr>\n",
       "      <th>348</th>\n",
       "      <td>856.303304</td>\n",
       "    </tr>\n",
       "    <tr>\n",
       "      <th>435</th>\n",
       "      <td>381.043377</td>\n",
       "    </tr>\n",
       "    <tr>\n",
       "      <th>102</th>\n",
       "      <td>322.592741</td>\n",
       "    </tr>\n",
       "  </tbody>\n",
       "</table>\n",
       "<p>400 rows × 1 columns</p>\n",
       "</div>"
      ],
      "text/plain": [
       "        Revenue\n",
       "249  473.568112\n",
       "433  246.787161\n",
       "19   534.622865\n",
       "322  463.480508\n",
       "332  379.564268\n",
       "..          ...\n",
       "106  553.445291\n",
       "270  603.305339\n",
       "348  856.303304\n",
       "435  381.043377\n",
       "102  322.592741\n",
       "\n",
       "[400 rows x 1 columns]"
      ]
     },
     "execution_count": 33,
     "metadata": {},
     "output_type": "execute_result"
    }
   ],
   "source": [
    "y_train"
   ]
  },
  {
   "cell_type": "code",
   "execution_count": 34,
   "id": "8b0de439",
   "metadata": {},
   "outputs": [
    {
     "data": {
      "text/html": [
       "<div>\n",
       "<style scoped>\n",
       "    .dataframe tbody tr th:only-of-type {\n",
       "        vertical-align: middle;\n",
       "    }\n",
       "\n",
       "    .dataframe tbody tr th {\n",
       "        vertical-align: top;\n",
       "    }\n",
       "\n",
       "    .dataframe thead th {\n",
       "        text-align: right;\n",
       "    }\n",
       "</style>\n",
       "<table border=\"1\" class=\"dataframe\">\n",
       "  <thead>\n",
       "    <tr style=\"text-align: right;\">\n",
       "      <th></th>\n",
       "      <th>Revenue</th>\n",
       "    </tr>\n",
       "  </thead>\n",
       "  <tbody>\n",
       "    <tr>\n",
       "      <th>361</th>\n",
       "      <td>659.873287</td>\n",
       "    </tr>\n",
       "    <tr>\n",
       "      <th>73</th>\n",
       "      <td>623.248701</td>\n",
       "    </tr>\n",
       "    <tr>\n",
       "      <th>374</th>\n",
       "      <td>559.135869</td>\n",
       "    </tr>\n",
       "    <tr>\n",
       "      <th>155</th>\n",
       "      <td>497.752318</td>\n",
       "    </tr>\n",
       "    <tr>\n",
       "      <th>104</th>\n",
       "      <td>627.901841</td>\n",
       "    </tr>\n",
       "    <tr>\n",
       "      <th>...</th>\n",
       "      <td>...</td>\n",
       "    </tr>\n",
       "    <tr>\n",
       "      <th>347</th>\n",
       "      <td>564.310532</td>\n",
       "    </tr>\n",
       "    <tr>\n",
       "      <th>86</th>\n",
       "      <td>643.944327</td>\n",
       "    </tr>\n",
       "    <tr>\n",
       "      <th>75</th>\n",
       "      <td>653.986736</td>\n",
       "    </tr>\n",
       "    <tr>\n",
       "      <th>438</th>\n",
       "      <td>412.082357</td>\n",
       "    </tr>\n",
       "    <tr>\n",
       "      <th>15</th>\n",
       "      <td>469.909033</td>\n",
       "    </tr>\n",
       "  </tbody>\n",
       "</table>\n",
       "<p>100 rows × 1 columns</p>\n",
       "</div>"
      ],
      "text/plain": [
       "        Revenue\n",
       "361  659.873287\n",
       "73   623.248701\n",
       "374  559.135869\n",
       "155  497.752318\n",
       "104  627.901841\n",
       "..          ...\n",
       "347  564.310532\n",
       "86   643.944327\n",
       "75   653.986736\n",
       "438  412.082357\n",
       "15   469.909033\n",
       "\n",
       "[100 rows x 1 columns]"
      ]
     },
     "execution_count": 34,
     "metadata": {},
     "output_type": "execute_result"
    }
   ],
   "source": [
    "y_test"
   ]
  },
  {
   "cell_type": "markdown",
   "id": "718be5a3",
   "metadata": {},
   "source": [
    "# STEP 5: TRAIN THE MODEL"
   ]
  },
  {
   "cell_type": "code",
   "execution_count": 35,
   "id": "6173c2cc",
   "metadata": {},
   "outputs": [],
   "source": [
    "# apply least squared method\n",
    "from sklearn.linear_model import LinearRegression"
   ]
  },
  {
   "cell_type": "code",
   "execution_count": 36,
   "id": "0e015041",
   "metadata": {},
   "outputs": [],
   "source": [
    "regressor = LinearRegression(fit_intercept = True)"
   ]
  },
  {
   "cell_type": "code",
   "execution_count": 37,
   "id": "9837c422",
   "metadata": {},
   "outputs": [
    {
     "data": {
      "text/plain": [
       "LinearRegression()"
      ]
     },
     "execution_count": 37,
     "metadata": {},
     "output_type": "execute_result"
    }
   ],
   "source": [
    "regressor.fit(X_train, y_train)"
   ]
  },
  {
   "cell_type": "code",
   "execution_count": 38,
   "id": "cc379b94",
   "metadata": {},
   "outputs": [
    {
     "name": "stdout",
     "output_type": "stream",
     "text": [
      "Linear Model Coefficient (a) [[21.38197386]]\n",
      "Linear Model Coefficient (b) [46.80464128]\n"
     ]
    }
   ],
   "source": [
    "print('Linear Model Coefficient (a)', regressor.coef_)\n",
    "print('Linear Model Coefficient (b)', regressor.intercept_)"
   ]
  },
  {
   "cell_type": "code",
   "execution_count": 39,
   "id": "bb3ae91e",
   "metadata": {},
   "outputs": [],
   "source": [
    "#STEP 6: TEST THE MODEL"
   ]
  },
  {
   "cell_type": "code",
   "execution_count": 40,
   "id": "011fc1c2",
   "metadata": {},
   "outputs": [
    {
     "data": {
      "text/plain": [
       "(100, 1)"
      ]
     },
     "execution_count": 40,
     "metadata": {},
     "output_type": "execute_result"
    }
   ],
   "source": [
    "X_test.shape"
   ]
  },
  {
   "cell_type": "code",
   "execution_count": 41,
   "id": "a9811322",
   "metadata": {},
   "outputs": [
    {
     "data": {
      "text/html": [
       "<div>\n",
       "<style scoped>\n",
       "    .dataframe tbody tr th:only-of-type {\n",
       "        vertical-align: middle;\n",
       "    }\n",
       "\n",
       "    .dataframe tbody tr th {\n",
       "        vertical-align: top;\n",
       "    }\n",
       "\n",
       "    .dataframe thead th {\n",
       "        text-align: right;\n",
       "    }\n",
       "</style>\n",
       "<table border=\"1\" class=\"dataframe\">\n",
       "  <thead>\n",
       "    <tr style=\"text-align: right;\">\n",
       "      <th></th>\n",
       "      <th>Revenue</th>\n",
       "    </tr>\n",
       "  </thead>\n",
       "  <tbody>\n",
       "    <tr>\n",
       "      <th>249</th>\n",
       "      <td>473.568112</td>\n",
       "    </tr>\n",
       "    <tr>\n",
       "      <th>433</th>\n",
       "      <td>246.787161</td>\n",
       "    </tr>\n",
       "    <tr>\n",
       "      <th>19</th>\n",
       "      <td>534.622865</td>\n",
       "    </tr>\n",
       "    <tr>\n",
       "      <th>322</th>\n",
       "      <td>463.480508</td>\n",
       "    </tr>\n",
       "    <tr>\n",
       "      <th>332</th>\n",
       "      <td>379.564268</td>\n",
       "    </tr>\n",
       "    <tr>\n",
       "      <th>...</th>\n",
       "      <td>...</td>\n",
       "    </tr>\n",
       "    <tr>\n",
       "      <th>106</th>\n",
       "      <td>553.445291</td>\n",
       "    </tr>\n",
       "    <tr>\n",
       "      <th>270</th>\n",
       "      <td>603.305339</td>\n",
       "    </tr>\n",
       "    <tr>\n",
       "      <th>348</th>\n",
       "      <td>856.303304</td>\n",
       "    </tr>\n",
       "    <tr>\n",
       "      <th>435</th>\n",
       "      <td>381.043377</td>\n",
       "    </tr>\n",
       "    <tr>\n",
       "      <th>102</th>\n",
       "      <td>322.592741</td>\n",
       "    </tr>\n",
       "  </tbody>\n",
       "</table>\n",
       "<p>400 rows × 1 columns</p>\n",
       "</div>"
      ],
      "text/plain": [
       "        Revenue\n",
       "249  473.568112\n",
       "433  246.787161\n",
       "19   534.622865\n",
       "322  463.480508\n",
       "332  379.564268\n",
       "..          ...\n",
       "106  553.445291\n",
       "270  603.305339\n",
       "348  856.303304\n",
       "435  381.043377\n",
       "102  322.592741\n",
       "\n",
       "[400 rows x 1 columns]"
      ]
     },
     "execution_count": 41,
     "metadata": {},
     "output_type": "execute_result"
    }
   ],
   "source": [
    "y_train"
   ]
  },
  {
   "cell_type": "code",
   "execution_count": 42,
   "id": "ff0597f6",
   "metadata": {},
   "outputs": [
    {
     "data": {
      "text/html": [
       "<div>\n",
       "<style scoped>\n",
       "    .dataframe tbody tr th:only-of-type {\n",
       "        vertical-align: middle;\n",
       "    }\n",
       "\n",
       "    .dataframe tbody tr th {\n",
       "        vertical-align: top;\n",
       "    }\n",
       "\n",
       "    .dataframe thead th {\n",
       "        text-align: right;\n",
       "    }\n",
       "</style>\n",
       "<table border=\"1\" class=\"dataframe\">\n",
       "  <thead>\n",
       "    <tr style=\"text-align: right;\">\n",
       "      <th></th>\n",
       "      <th>Temperature</th>\n",
       "    </tr>\n",
       "  </thead>\n",
       "  <tbody>\n",
       "    <tr>\n",
       "      <th>361</th>\n",
       "      <td>29.704183</td>\n",
       "    </tr>\n",
       "    <tr>\n",
       "      <th>73</th>\n",
       "      <td>27.375401</td>\n",
       "    </tr>\n",
       "    <tr>\n",
       "      <th>374</th>\n",
       "      <td>23.984641</td>\n",
       "    </tr>\n",
       "    <tr>\n",
       "      <th>155</th>\n",
       "      <td>21.144047</td>\n",
       "    </tr>\n",
       "    <tr>\n",
       "      <th>104</th>\n",
       "      <td>26.595054</td>\n",
       "    </tr>\n",
       "    <tr>\n",
       "      <th>...</th>\n",
       "      <td>...</td>\n",
       "    </tr>\n",
       "    <tr>\n",
       "      <th>347</th>\n",
       "      <td>24.960446</td>\n",
       "    </tr>\n",
       "    <tr>\n",
       "      <th>86</th>\n",
       "      <td>27.780500</td>\n",
       "    </tr>\n",
       "    <tr>\n",
       "      <th>75</th>\n",
       "      <td>28.790101</td>\n",
       "    </tr>\n",
       "    <tr>\n",
       "      <th>438</th>\n",
       "      <td>17.132795</td>\n",
       "    </tr>\n",
       "    <tr>\n",
       "      <th>15</th>\n",
       "      <td>18.483141</td>\n",
       "    </tr>\n",
       "  </tbody>\n",
       "</table>\n",
       "<p>100 rows × 1 columns</p>\n",
       "</div>"
      ],
      "text/plain": [
       "     Temperature\n",
       "361    29.704183\n",
       "73     27.375401\n",
       "374    23.984641\n",
       "155    21.144047\n",
       "104    26.595054\n",
       "..           ...\n",
       "347    24.960446\n",
       "86     27.780500\n",
       "75     28.790101\n",
       "438    17.132795\n",
       "15     18.483141\n",
       "\n",
       "[100 rows x 1 columns]"
      ]
     },
     "execution_count": 42,
     "metadata": {},
     "output_type": "execute_result"
    }
   ],
   "source": [
    "X_test"
   ]
  },
  {
   "cell_type": "code",
   "execution_count": 43,
   "id": "3ca4691d",
   "metadata": {},
   "outputs": [
    {
     "data": {
      "text/html": [
       "<div>\n",
       "<style scoped>\n",
       "    .dataframe tbody tr th:only-of-type {\n",
       "        vertical-align: middle;\n",
       "    }\n",
       "\n",
       "    .dataframe tbody tr th {\n",
       "        vertical-align: top;\n",
       "    }\n",
       "\n",
       "    .dataframe thead th {\n",
       "        text-align: right;\n",
       "    }\n",
       "</style>\n",
       "<table border=\"1\" class=\"dataframe\">\n",
       "  <thead>\n",
       "    <tr style=\"text-align: right;\">\n",
       "      <th></th>\n",
       "      <th>Revenue</th>\n",
       "    </tr>\n",
       "  </thead>\n",
       "  <tbody>\n",
       "    <tr>\n",
       "      <th>361</th>\n",
       "      <td>659.873287</td>\n",
       "    </tr>\n",
       "    <tr>\n",
       "      <th>73</th>\n",
       "      <td>623.248701</td>\n",
       "    </tr>\n",
       "    <tr>\n",
       "      <th>374</th>\n",
       "      <td>559.135869</td>\n",
       "    </tr>\n",
       "    <tr>\n",
       "      <th>155</th>\n",
       "      <td>497.752318</td>\n",
       "    </tr>\n",
       "    <tr>\n",
       "      <th>104</th>\n",
       "      <td>627.901841</td>\n",
       "    </tr>\n",
       "    <tr>\n",
       "      <th>...</th>\n",
       "      <td>...</td>\n",
       "    </tr>\n",
       "    <tr>\n",
       "      <th>347</th>\n",
       "      <td>564.310532</td>\n",
       "    </tr>\n",
       "    <tr>\n",
       "      <th>86</th>\n",
       "      <td>643.944327</td>\n",
       "    </tr>\n",
       "    <tr>\n",
       "      <th>75</th>\n",
       "      <td>653.986736</td>\n",
       "    </tr>\n",
       "    <tr>\n",
       "      <th>438</th>\n",
       "      <td>412.082357</td>\n",
       "    </tr>\n",
       "    <tr>\n",
       "      <th>15</th>\n",
       "      <td>469.909033</td>\n",
       "    </tr>\n",
       "  </tbody>\n",
       "</table>\n",
       "<p>100 rows × 1 columns</p>\n",
       "</div>"
      ],
      "text/plain": [
       "        Revenue\n",
       "361  659.873287\n",
       "73   623.248701\n",
       "374  559.135869\n",
       "155  497.752318\n",
       "104  627.901841\n",
       "..          ...\n",
       "347  564.310532\n",
       "86   643.944327\n",
       "75   653.986736\n",
       "438  412.082357\n",
       "15   469.909033\n",
       "\n",
       "[100 rows x 1 columns]"
      ]
     },
     "execution_count": 43,
     "metadata": {},
     "output_type": "execute_result"
    }
   ],
   "source": [
    "y_test"
   ]
  },
  {
   "cell_type": "code",
   "execution_count": 44,
   "id": "e1e0cc43",
   "metadata": {},
   "outputs": [
    {
     "data": {
      "text/plain": [
       "Text(0.5, 1.0, 'Revenue Generated vs. Temperature @ Ice Cream Stand')"
      ]
     },
     "execution_count": 44,
     "metadata": {},
     "output_type": "execute_result"
    },
    {
     "data": {
      "image/png": "[encoded data removed]",
      "text/plain": [
       "<Figure size 432x288 with 1 Axes>"
      ]
     },
     "metadata": {
      "needs_background": "light"
     },
     "output_type": "display_data"
    }
   ],
   "source": [
    "# TRAINING MODEL \n",
    "plt.scatter(X_train, y_train, color = 'black')\n",
    "plt.plot(X_train, regressor.predict(X_train), color = 'red')\n",
    "plt.xlabel('Temperature [DegC]')\n",
    "\n",
    "plt.ylabel('Revenue [Naira]')\n",
    "plt.title('Revenue Generated vs. Temperature @ Ice Cream Stand')"
   ]
  },
  {
   "cell_type": "code",
   "execution_count": 45,
   "id": "619b46ac",
   "metadata": {},
   "outputs": [],
   "source": [
    "# lets make a prediction for 50C\n"
   ]
  },
  {
   "cell_type": "code",
   "execution_count": 46,
   "id": "38e6f7b6",
   "metadata": {},
   "outputs": [],
   "source": [
    "T = 35 #35, 10\n",
    "revenue = regressor.predict([[T]])"
   ]
  },
  {
   "cell_type": "code",
   "execution_count": 47,
   "id": "a81129ee",
   "metadata": {},
   "outputs": [
    {
     "data": {
      "text/plain": [
       "array([[795.17372621]])"
      ]
     },
     "execution_count": 47,
     "metadata": {},
     "output_type": "execute_result"
    }
   ],
   "source": [
    "revenue"
   ]
  },
  {
   "cell_type": "markdown",
   "id": "25f04e0a",
   "metadata": {},
   "source": [
    "\n",
    "# model Performance"
   ]
  },
  {
   "cell_type": "code",
   "execution_count": 48,
   "id": "33e3d707",
   "metadata": {},
   "outputs": [],
   "source": [
    "from scipy import stats\n",
    "r2_score =stats.linregress(x = iceCreamData['Temperature'], \n",
    "                          y = iceCreamData['Revenue'])\n",
    "\n",
    "\n"
   ]
  },
  {
   "cell_type": "code",
   "execution_count": 49,
   "id": "15246bd9",
   "metadata": {},
   "outputs": [
    {
     "data": {
      "text/plain": [
       "LinregressResult(slope=21.44362551068026, intercept=44.831267090563585, rvalue=0.9898015963401863, pvalue=0.0, stderr=0.13829496831845317, intercept_stderr=3.2717568083850397)"
      ]
     },
     "execution_count": 49,
     "metadata": {},
     "output_type": "execute_result"
    }
   ],
   "source": [
    "r2_score #A higher rvalue is a best case scenario and vise versa"
   ]
  }
 ],
 "metadata": {
  "kernelspec": {
   "display_name": "Python 3 (ipykernel)",
   "language": "python",
   "name": "python3"
  },
  "language_info": {
   "codemirror_mode": {
    "name": "ipython",
    "version": 3
   },
   "file_extension": ".py",
   "mimetype": "text/x-python",
   "name": "python",
   "nbconvert_exporter": "python",
   "pygments_lexer": "ipython3",
   "version": "3.9.7"
  }
 },
 "nbformat": 4,
 "nbformat_minor": 5
}